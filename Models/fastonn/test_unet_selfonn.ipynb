{
 "cells": [
  {
   "cell_type": "code",
   "execution_count": 2,
   "metadata": {},
   "outputs": [],
   "source": [
    "from slefonn2 import SelfONN1DLayer\n",
    "import torch\n",
    "import torch.nn as nn"
   ]
  },
  {
   "cell_type": "code",
   "execution_count": 3,
   "metadata": {},
   "outputs": [],
   "source": [
    "def downsample_selfONN(in_ch, out_ch, f_size, q, samp_fact=2):\n",
    " \n",
    "    result = nn.Sequential(\n",
    "        SelfONN1DLayer(in_channels=in_ch,out_channels=out_ch,kernel_size=f_size,q=q,pad=-1,sampling_factor=samp_fact),\n",
    "        torch.nn.Tanh()\n",
    "    )\n",
    "\n",
    "    return result\n",
    "\n",
    "def upsample_selfONN(in_ch, out_ch, f_size, q, samp_fact=-2):\n",
    " \n",
    "    result = nn.Sequential(\n",
    "        SelfONN1DLayer(in_channels=in_ch,out_channels=out_ch,kernel_size=f_size,q=q,pad=-1,sampling_factor=samp_fact),\n",
    "        torch.nn.Tanh()\n",
    "    )\n",
    "\n",
    "    return result"
   ]
  },
  {
   "cell_type": "code",
   "execution_count": null,
   "metadata": {},
   "outputs": [],
   "source": [
    "class UNet_selfONN(nn.Module):\n",
    "    def __init__(self, q, n_channels = 1):\n",
    "        super(UNet_selfONN, self).__init__()\n",
    "        self.n_channels = n_channels\n",
    "\n",
    "\n",
    "        # model 2 [4-->4] [16] [9 7  5 3]\n",
    "        self.down1 = downsample_selfONN(in_ch = 2, out_ch =  16, f_size = 9, q = q, samp_fact=4)\n",
    "        self.down2 = downsample_selfONN(in_ch = 16, out_ch = 16, f_size = 7, q = q, samp_fact=4)\n",
    "        self.down3 = downsample_selfONN(in_ch = 16, out_ch = 16, f_size = 5, q = q, samp_fact=4)\n",
    "\n",
    "        self.up1 = upsample_selfONN(in_ch = 16, out_ch = 16, f_size = 5, q = q, samp_fact=-4)\n",
    "        self.up2 = upsample_selfONN(in_ch = 32, out_ch = 16, f_size = 7, q = q, samp_fact=-4)\n",
    "        self.up3 = upsample_selfONN(in_ch = 32, out_ch = 16, f_size = 9, q = q, samp_fact=-4)\n",
    "\n",
    "        self.last = nn.Sequential(\n",
    "                        SelfONN1DLayer(in_channels=16,out_channels=1,kernel_size=1,q=q,pad=0,sampling_factor = 1),\n",
    "                        torch.nn.Sigmoid())\n",
    "\n",
    "    def forward(self, x):\n",
    "\n",
    "        d1 = self.down1(x)\n",
    "        d2 = self.down2(d1)\n",
    "        d3 = self.down3(d2)\n",
    "\n",
    "        u1 = self.up1(d3)\n",
    "        u2 = self.up2(torch.cat([u1,d2],1))\n",
    "        u3 = self.up3(torch.cat([u2,d1],1))\n",
    "        out = self.last(u3)\n",
    "        #print(u3.size())\n",
    "        return out\n",
    "if __name__ == '__main__':\n",
    "    model = UNet_selfONN(q=3)\n",
    "    from torchinfo import summary\n",
    "    summary(model, input_size=(10, 2, 8000))"
   ]
  },
  {
   "cell_type": "code",
   "execution_count": null,
   "metadata": {},
   "outputs": [],
   "source": [
    "if __name__ == '__main__':\n",
    "    model = UNet_selfONN(q=3)\n",
    "    from torchinfo import summary\n",
    "    summary(model, input_size=(10, 2, 8000))"
   ]
  }
 ],
 "metadata": {
  "kernelspec": {
   "display_name": "pt",
   "language": "python",
   "name": "python3"
  },
  "language_info": {
   "codemirror_mode": {
    "name": "ipython",
    "version": 3
   },
   "file_extension": ".py",
   "mimetype": "text/x-python",
   "name": "python",
   "nbconvert_exporter": "python",
   "pygments_lexer": "ipython3",
   "version": "3.9.19"
  }
 },
 "nbformat": 4,
 "nbformat_minor": 2
}
